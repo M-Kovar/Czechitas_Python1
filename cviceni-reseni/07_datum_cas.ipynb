{
 "cells": [
  {
   "cell_type": "markdown",
   "id": "2a748bed",
   "metadata": {},
   "source": [
    "# Datum a čas"
   ]
  },
  {
   "cell_type": "markdown",
   "id": "0ff4ba41",
   "metadata": {},
   "source": [
    "## Užitečné funkce a metody"
   ]
  },
  {
   "cell_type": "code",
   "execution_count": 16,
   "id": "127b7a6f",
   "metadata": {},
   "outputs": [],
   "source": [
    "# datetime.now()            Aktuální datum a čas\n",
    "# datetime.today()          Aktuální datum a čas (narozdíl od now() neumožňuje specifikaci časové zóny)\n",
    "# datetime.day              Číslo dne objektu datetime (podobně year, month, hour, minute, second, microsecond)\n",
    "# datetime.weekday()        Den v týdnu (pořadí číslované od 0=pondělí)\n",
    "# datetime.isoweekday()     Den v týdnu (pořadí číslované od 1=pondělí)\n",
    "# datetime.isoformat()      Výpis v ISO formátu ('1969-07-16T14:32:00')\n",
    "# datetime.fromisoformat()  Zadání data v ISO formátu\n",
    "# datetime.strptime()       Zadání data podle vlastního formátu\n",
    "# datetime.strftime()       Výpis ve vlastním formátu (%d den, %m měsíc, %Y rok, %H hodina, %M minuta, %S sekunda)\n",
    "# timedelta(minutes=10)     Zadání časového intervalu (doby)"
   ]
  },
  {
   "cell_type": "markdown",
   "id": "4de2aa25",
   "metadata": {},
   "source": [
    "## Cvičení 1\n",
    "V proměnné `apolloStart` máme uložený datum a čas startu Apolla 11. Vypiš datum na obrazovku ve formátu, na který jsou zvyklí Američané, tj. na první místo napiš měsíc, dále den a nakonec rok, jako oddělovače použij lomítka. Čas vypisovat nemusíš."
   ]
  },
  {
   "cell_type": "code",
   "execution_count": 17,
   "id": "4435be0b",
   "metadata": {},
   "outputs": [],
   "source": [
    "# import datetime   # Importuje obsah do proměnné datetime, metody pak voláme jako datetime.metoda()\n",
    "from datetime import datetime, timedelta, date   # Importuje obsah přímo mezi naše proměnné (pozor na proměnné se shodným názvem), metody voláme jako metoda()"
   ]
  },
  {
   "cell_type": "code",
   "execution_count": 18,
   "id": "fe571569",
   "metadata": {},
   "outputs": [
    {
     "data": {
      "text/plain": [
       "'07/16/1969'"
      ]
     },
     "execution_count": 18,
     "metadata": {},
     "output_type": "execute_result"
    }
   ],
   "source": [
    "apollo_start = datetime(1969, 7, 16, 14, 32)\n",
    "apollo_start_US_format = apollo_start.strftime(\"%m/%d/%Y\")\n",
    "apollo_start_US_format"
   ]
  },
  {
   "cell_type": "markdown",
   "id": "efa4138f",
   "metadata": {},
   "source": [
    "## Cvičení 2\n",
    "Satelit Solar Orbiter, který má za cíl pozorování Slunce, odstartoval 10. února 2020 v 5:03. Ulož si hodnotu startu do proměnné.\n",
    "\n",
    "- Který den v týdnu Solar Orbiter odstartoval?\n",
    "- Spočítej, kolik času od jeho startu uplynulo."
   ]
  },
  {
   "cell_type": "code",
   "execution_count": 19,
   "id": "224175fd",
   "metadata": {},
   "outputs": [
    {
     "name": "stdout",
     "output_type": "stream",
     "text": [
      "Den startu Solar Orbiteru: Monday\n",
      "Čas uplynulý od startu Solar Orbiteru: 995 days, 15:53:58.150117\n"
     ]
    }
   ],
   "source": [
    "start = datetime(2020, 2, 10, 5, 3)\n",
    "# start_den = start.weekday()           # Pořadí dne v týdnu\n",
    "start_den = start.strftime(\"%A\")        # Jméno dne v týdnu\n",
    "cas_od_startu = datetime.now() - start  # cas_od_startu se uloží jako timedelta\n",
    "print(f\"Den startu Solar Orbiteru: {start_den}\")\n",
    "print(f\"Čas uplynulý od startu Solar Orbiteru: {cas_od_startu}\")"
   ]
  },
  {
   "cell_type": "markdown",
   "id": "f454b8c9",
   "metadata": {},
   "source": [
    "## Cvičení 3\n",
    "Zákazník si objednal večeři na webu dovážkové služby 13. listopadu 2020 v 19:47. Víme, že převzetí objednávky restaurací v průměru trvá 8 minut a 35 sekund, příprava jídla trvá 30 minut a doprava jídla k zákazníkovi 25 minut a 30 sekund. Kdy očekáváme, že jídlo dorazí zákazníkovi?"
   ]
  },
  {
   "cell_type": "code",
   "execution_count": 20,
   "id": "19730f49",
   "metadata": {},
   "outputs": [
    {
     "name": "stdout",
     "output_type": "stream",
     "text": [
      "Vytvoření objednávky: 2020-11-13 19:47:00\n",
      "Doručení objednávky: 2020-11-13 20:51:05\n"
     ]
    }
   ],
   "source": [
    "cas_objednavky = datetime(2020, 11, 13, 19, 47)\n",
    "doba_prevzeti = timedelta(minutes=8, seconds=35)\n",
    "doba_priprava = timedelta(minutes=30)\n",
    "doba_doprava = timedelta(minutes=25, seconds=30)\n",
    "doba_celkove = doba_prevzeti + doba_priprava + doba_doprava\n",
    "\n",
    "cas_doruceni = cas_objednavky + doba_celkove\n",
    "print(f\"Vytvoření objednávky: {cas_objednavky}\")\n",
    "print(f\"Doručení objednávky: {cas_doruceni}\")"
   ]
  },
  {
   "cell_type": "markdown",
   "id": "970ba4de",
   "metadata": {},
   "source": [
    "## Ukázky markdownu\n",
    "(dvojklik na tuto buňku odhalí markdown zápis)\n",
    "Pozn.: markdown používá i github.com\n",
    "\n",
    "# Nadpis 1\n",
    "## Nadpis 2\n",
    "### Nadpis 3\n",
    "...\n",
    "\n",
    "Seznam\n",
    "1. Položka 1\n",
    "2. Položka 2\n",
    "\n",
    "Odkaz: \n",
    "[google](https://www.google.com)\n",
    "\n",
    "**tučný text**\n",
    "\n",
    "*kurzíva*"
   ]
  },
  {
   "cell_type": "markdown",
   "id": "fe32704f",
   "metadata": {},
   "source": [
    "## Bonusová znalost: LaTeX\n",
    "Nástroj pro formátování (sázení) a tisk dokumentů. Velmi zjednodušeně \"složitější varianta Wordu\":). Může se mimo jiné hodit k zápisu matematických rovnic apod.\n",
    "\n",
    "https://cs.wikipedia.org/wiki/LaTeX\n",
    "\n",
    "(dvojklik na tuto buňku odhalí LaTeX zápis)"
   ]
  },
  {
   "cell_type": "markdown",
   "id": "f263597f",
   "metadata": {},
   "source": [
    "Příklady matematického zápisu:\n",
    "\n",
    "$ P(A \\mid B) = \\frac{P(B \\mid A)P(A)}{P(B)} $\n",
    "\n",
    "$ e^{i \\pi} + 1 = 0 $\n",
    "\n",
    "$ \\Delta\\lambda = \\frac{1}{\\lambda^2} $"
   ]
  }
 ],
 "metadata": {
  "kernelspec": {
   "display_name": "Python 3.9.13 ('base')",
   "language": "python",
   "name": "python3"
  },
  "language_info": {
   "codemirror_mode": {
    "name": "ipython",
    "version": 3
   },
   "file_extension": ".py",
   "mimetype": "text/x-python",
   "name": "python",
   "nbconvert_exporter": "python",
   "pygments_lexer": "ipython3",
   "version": "3.9.13"
  },
  "vscode": {
   "interpreter": {
    "hash": "ca0a74a26f64ce6078449a8a918a2043db137feeddbb8faaf0bddbab6a446058"
   }
  }
 },
 "nbformat": 4,
 "nbformat_minor": 5
}
