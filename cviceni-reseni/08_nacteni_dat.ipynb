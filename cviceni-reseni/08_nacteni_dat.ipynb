{
 "cells": [
  {
   "cell_type": "markdown",
   "metadata": {},
   "source": [
    "# Pandas: Načtení dat"
   ]
  },
  {
   "cell_type": "markdown",
   "metadata": {},
   "source": [
    "## Užitečné funkce a metody"
   ]
  },
  {
   "cell_type": "code",
   "execution_count": null,
   "metadata": {},
   "outputs": [],
   "source": [
    "# data = pandas.read_csv(\"file.csv\")    Načte data z csv souboru\n",
    "# data.to_csv(\"file.csv\")               Zapíše data do csv souboru (zatím nepotřebujeme)\n",
    "\n",
    "# data.info()                           Informace o datech\n",
    "# data.head()                           Výpis prvních několika řádků\n",
    "# data.tail()                           Výpis posledních několika řádků\n",
    "# data.shape                            Počet řádků a sloupců v tabulce\n",
    "# data.columns                          Vypíše názvy sloupců\n",
    "\n",
    "# data[\"sloupec1\"]                      Výběr sloupce podle názvu\n",
    "# data[[\"sloupec1\", \"sloupec2\"]]        Výběr více sloupců podle názvu\n",
    "# data.iloc[3:5]                        Výběr řádku/řádků podle jejich pořadí\n",
    "# data.iloc[3,8]                        Výběr řádku a sloupce podle jejich pořadí\n"
   ]
  },
  {
   "cell_type": "markdown",
   "metadata": {},
   "source": [
    "Zadání: https://kodim.cz/kurzy/python-data-1/python-pro-data-1/nacteni-dat/excs"
   ]
  },
  {
   "cell_type": "markdown",
   "metadata": {},
   "source": [
    "## Cvičení 1\n",
    "Stáhni si soubor DataAnalyst.csv se seznamem nabídek práce pro datové analytiky. Soubor byl stažen z webu Kaggle.com, kde najdeš spoustu zajímavých dat, na kterých se můžeš učit, jak analyzovat data.\n",
    "\n",
    "Ale zpět k našim úkolům..."
   ]
  },
  {
   "cell_type": "markdown",
   "metadata": {},
   "source": [
    "1. Načti data do DataFrame, který si pojmenuj jobs."
   ]
  },
  {
   "cell_type": "code",
   "execution_count": null,
   "metadata": {},
   "outputs": [],
   "source": [
    "import pandas as pd\n",
    "\n",
    "# Stažení csv před odkaz\n",
    "# import requests\n",
    "# url = \"https://kodim.cz/cms/assets/kurzy/python-data-1/python-pro-data-1/nacteni-dat/excs/excs%3Enabidky/DataAnalyst.csv\"\n",
    "# r = requests.get(url, allow_redirects=True, verify=False)\n",
    "# open(\"../data_pandas/DataAnalyst2.csv\", \"wb\").write(r.content)\n",
    "\n",
    "# Relativní adresa k souboru: \"..\" odkazuje na složku nadřazenou té aktuální\n",
    "jobs = pd.read_csv(\"../data_pandas/DataAnalyst.csv\", index_col=0) # index_col zařídí, že se jako index řádků použije první sloupec dat (čísla řádků 0-...)\n",
    "\n",
    "# Náhled dat, výpis informací - více možností\n",
    "jobs.head()  # Počet řádků jako nepovinný argument\n",
    "jobs.tail()  # Počet řádků jako nepovinný argument\n",
    "jobs.info()\n",
    "jobs"
   ]
  },
  {
   "cell_type": "markdown",
   "metadata": {},
   "source": [
    "2. Nech si zobrazit názvy sloupců, které jsou v souboru uloženy."
   ]
  },
  {
   "cell_type": "code",
   "execution_count": null,
   "metadata": {},
   "outputs": [],
   "source": [
    "jobs.columns\n",
    "\n",
    "# Případně převod názvů na běžný seznam\n",
    "# list(jobs.columns)"
   ]
  },
  {
   "cell_type": "markdown",
   "metadata": {},
   "source": [
    "3. Podívej se, kolik má soubor řádek."
   ]
  },
  {
   "cell_type": "code",
   "execution_count": 86,
   "metadata": {},
   "outputs": [
    {
     "name": "stdout",
     "output_type": "stream",
     "text": [
      "(2253, 15)\n",
      "2253\n",
      "15\n"
     ]
    },
    {
     "data": {
      "text/plain": [
       "2253"
      ]
     },
     "execution_count": 86,
     "metadata": {},
     "output_type": "execute_result"
    }
   ],
   "source": [
    "print(jobs.shape)  # řádky a sloupce\n",
    "print(jobs.shape[0])  # jen řádky\n",
    "print(jobs.shape[1])  # jen sloupce\n",
    "\n",
    "len(jobs)  # Tradiční pythoní len() taky vrací počet řádků"
   ]
  },
  {
   "cell_type": "markdown",
   "metadata": {},
   "source": [
    "4. Zjisti všechny informace o pracovní pozici na desátém řádku."
   ]
  },
  {
   "cell_type": "code",
   "execution_count": 88,
   "metadata": {},
   "outputs": [
    {
     "data": {
      "text/plain": [
       "Job Title                                Data Analyst, Merchant Health\n",
       "Salary Estimate                             $37K-$66K (Glassdoor est.)\n",
       "Job Description      About Us\\n\\nRiskified is the AI platform power...\n",
       "Rating                                                             4.4\n",
       "Company Name                                            Riskified\\n4.4\n",
       "Location                                                  New York, NY\n",
       "Headquarters                                              New York, NY\n",
       "Size                                             501 to 1000 employees\n",
       "Founded                                                           2013\n",
       "Type of ownership                                    Company - Private\n",
       "Industry                                        Research & Development\n",
       "Sector                                               Business Services\n",
       "Revenue                                       Unknown / Non-Applicable\n",
       "Competitors                                           Signifyd, Forter\n",
       "Easy Apply                                                          -1\n",
       "Name: 9, dtype: object"
      ]
     },
     "execution_count": 88,
     "metadata": {},
     "output_type": "execute_result"
    }
   ],
   "source": [
    "jobs.iloc[9]\n",
    "# ... vrací objekt typu Series\n",
    "\n",
    "# Případně výstup jako DataFrame:\n",
    "# jobs.iloc[[9]]"
   ]
  },
  {
   "cell_type": "markdown",
   "metadata": {},
   "source": [
    "5. Podívej se, kde budou pracovat zájemci vybraní na dvanáctou až dvacátou pozici."
   ]
  },
  {
   "cell_type": "code",
   "execution_count": 100,
   "metadata": {},
   "outputs": [
    {
     "data": {
      "text/plain": [
       "11      Fairfield, NJ\n",
       "12       New York, NY\n",
       "13       New York, NY\n",
       "14    Jersey City, NJ\n",
       "15       New York, NY\n",
       "16       New York, NY\n",
       "17       New York, NY\n",
       "18       New York, NY\n",
       "19       New York, NY\n",
       "Name: Location, dtype: object"
      ]
     },
     "execution_count": 100,
     "metadata": {},
     "output_type": "execute_result"
    }
   ],
   "source": [
    "# Předpokládejme, že chceme geografické \"kde\", tedy Location\n",
    "\n",
    "# Výběr přes pořadí sloupce\n",
    "jobs.iloc[11:20]\n",
    "\n",
    "# Výběr přes název sloupce (dvě možnosti)\n",
    "jobs.iloc[11:20][\"Location\"]\n",
    "jobs.iloc[11:20].Location"
   ]
  }
 ],
 "metadata": {
  "kernelspec": {
   "display_name": "Python 3.9.13 ('base')",
   "language": "python",
   "name": "python3"
  },
  "language_info": {
   "codemirror_mode": {
    "name": "ipython",
    "version": 3
   },
   "file_extension": ".py",
   "mimetype": "text/x-python",
   "name": "python",
   "nbconvert_exporter": "python",
   "pygments_lexer": "ipython3",
   "version": "3.9.13"
  },
  "orig_nbformat": 4,
  "vscode": {
   "interpreter": {
    "hash": "ca0a74a26f64ce6078449a8a918a2043db137feeddbb8faaf0bddbab6a446058"
   }
  }
 },
 "nbformat": 4,
 "nbformat_minor": 2
}
