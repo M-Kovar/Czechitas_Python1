{
 "cells": [
  {
   "cell_type": "markdown",
   "metadata": {},
   "source": [
    "# Regulární výrazy"
   ]
  },
  {
   "cell_type": "markdown",
   "metadata": {},
   "source": [
    "## V regex101\n",
    "\n",
    "Zadání: https://kodim.cz/kurzy/python-data-1/ziskavani-dat/regularni-vyrazy/regularni-vyrazy\n",
    "\n",
    "regular expressions 101: https://regex101.com/"
   ]
  },
  {
   "cell_type": "markdown",
   "metadata": {},
   "source": [
    "### 1 Předčíslí u čísla účtu"
   ]
  },
  {
   "cell_type": "markdown",
   "metadata": {},
   "source": [
    "#### Regulární výraz(y):\n",
    "\n",
    "Pro číslo účtu bez předčíslí:\n",
    "\n",
    "`\\d{6,10}/\\d{4}`\n",
    "\n",
    "Pro číslo účtu s předčíslím:\n",
    "\n",
    "`\\d{0,6}-?\\d{6,10}/\\d{4}`\n",
    "\n",
    "#### Vstup pro ověření:\n",
    "\n",
    "2300117015/2010\n",
    "\n",
    "123-2300117015/2100\n",
    "\n",
    "4567-2300117015/2100\n",
    "\n",
    "0000002300117015/2100\n"
   ]
  },
  {
   "cell_type": "markdown",
   "metadata": {},
   "source": [
    "### 2 Číslo účtu podruhé"
   ]
  },
  {
   "cell_type": "markdown",
   "metadata": {},
   "source": [
    "#### Regulární výraz(y):\n",
    "Normální číslo účtu:\n",
    "\n",
    "`\\d{6,10}/\\d{4}`\n",
    "\n",
    "`[12][0-2]\\d{4,8}/2100`\n",
    "\n",
    "#### Vstup pro ověření:\n",
    "\n",
    "2300117015/2010\n",
    "\n",
    "123-2300117015/2100\n",
    "\n",
    "4567-2300117015/2100\n",
    "\n",
    "2300117015/2100"
   ]
  },
  {
   "cell_type": "markdown",
   "metadata": {},
   "source": [
    "### 3 Registrační značka"
   ]
  },
  {
   "cell_type": "markdown",
   "metadata": {},
   "source": [
    "#### Regulární výraz(y):\n",
    "\n",
    "`\\d[A-Z]\\w \\d{4}`\n",
    "\n",
    "Nebo bez podtržítka (jinak zahrnuto ve \\w): \n",
    "\n",
    "`\\d[A-Z]([A-Z]|[0-9]) \\d{4}`\n",
    "\n",
    "`\\d(A|B|C|E|H|J|K|L|M|P|S|T|U|Z)\\w \\d{4}`\n",
    "\n",
    "#### Vstup pro ověření:\n",
    "\n",
    "4A6 8244\n",
    "\n",
    "6B2 6635\n",
    "\n",
    "2AD 3824\n",
    "\n",
    "7C1 5025\n",
    "\n",
    "\n",
    "7C_ 5025\n",
    "\n",
    "\n",
    "AC8 5484\n",
    "\n",
    "924 1541\n",
    "\n",
    "8A2 25C2\n",
    "\n",
    "3P 4564\n",
    "\n",
    "1A 25364"
   ]
  },
  {
   "cell_type": "markdown",
   "metadata": {},
   "source": [
    "### 4 Telefonní číslo"
   ]
  },
  {
   "cell_type": "markdown",
   "metadata": {},
   "source": [
    "#### Regulární výraz(y):\n",
    "`(\\+420)? ?\\d{3} ?\\d{3} ?\\d{3}`\n",
    "\n",
    "Nebo:\n",
    "\n",
    "`(\\+\\d{1,3})?( ?\\d{3}){3}`\n",
    "\n",
    "#### Vstup pro ověření:\n",
    "\n",
    "123 456 789\n",
    "\n",
    "123456789\n",
    "\n",
    "+420 123 456 789\n",
    "\n",
    "+421 123 456 789\n",
    "\n",
    "+1 123 456 789\n",
    "\n",
    "123 456 78"
   ]
  },
  {
   "cell_type": "markdown",
   "metadata": {},
   "source": [
    "### 5 Ministerstva"
   ]
  },
  {
   "cell_type": "markdown",
   "metadata": {},
   "source": [
    "#### Regulární výraz(y):\n",
    "`Ministerstvo[\\w ]*`\n",
    "\n",
    "#### Vstup pro ověření:\n",
    "Ministerstvo pro místní rozvoj, Celní správa České republiky, Ministerstvo životního prostředí, Ministerstvo práce a sociálních věcí, Český statistický úřad, Nejvyšší kontrolní úřad"
   ]
  },
  {
   "cell_type": "markdown",
   "metadata": {},
   "source": [
    "### 6 Nápravy"
   ]
  },
  {
   "cell_type": "markdown",
   "metadata": {},
   "source": [
    "#### Regulární výraz(y):\n",
    "\n",
    "`\\w{1},\\w{1} m`\n",
    "\n",
    "`\\w{2},\\w{2} t`\n",
    "\n",
    "Univerzálnější varianta (více číslic před/za čárkou):\n",
    "\n",
    "`\\d+,\\d+ m`\n",
    "\n",
    "`\\d+,\\d+ t`\n",
    "\n",
    "#### Vstup pro ověření:\n",
    "Maximální hmotnosti trojnápravy při dílčím rozvoru náprav jsou:\n",
    "\n",
    "- do 1,3 m včetně - 21,00 t,\n",
    "- nad 1,3 m do 1,4 m včetně - 24,00 t,\n",
    "- nad 1,4 m do 1,8 m včetně - 27,00 t,"
   ]
  },
  {
   "cell_type": "markdown",
   "metadata": {},
   "source": [
    "### 7 Slavný soude"
   ]
  },
  {
   "cell_type": "markdown",
   "metadata": {},
   "source": [
    "#### Regulární výraz(y):\n",
    "`\\d{1,2} ?[A-Z]{1,3} ?\\d{1,4}/\\d{4}`\n",
    "\n",
    "#### Vstup pro ověření:\n",
    "\n",
    "63 C 397/2014\n",
    "\n",
    "631397/2014\n",
    "\n",
    "AA C 397/2014"
   ]
  },
  {
   "cell_type": "markdown",
   "metadata": {},
   "source": [
    "### 8 Ave, Caesar!"
   ]
  },
  {
   "cell_type": "markdown",
   "metadata": {
    "tags": []
   },
   "source": [
    "#### Regulární výraz(y):\n",
    "* `I?(V|X)?I{0,3}`\n",
    "* `(V|X|I)+`\n",
    "* `[VXI]{1,3}`\n",
    "\n",
    "#### Vstup pro ověření:\n",
    "\n",
    "IX. století\n",
    "\n",
    "Matematika pro VII. třídu\n",
    "\n",
    "Star Trek III\n",
    "\n",
    "Karel IV.\n",
    "\n",
    "papež Benedict V.\n",
    "\n",
    "Bělá je X. část statutárního města Děčín.\n",
    "\n",
    "III. patro\n",
    "\n",
    "II. stupeň povodňové aktivity\n",
    "\n",
    "Konstantin XI. Dragases"
   ]
  },
  {
   "cell_type": "markdown",
   "metadata": {},
   "source": [
    "## V Pythonu\n",
    "Zadání: https://kodim.cz/kurzy/python-data-1/ziskavani-dat/regularni-vyrazy/python-re"
   ]
  },
  {
   "cell_type": "markdown",
   "metadata": {},
   "source": [
    "### 1 Uživatelské jméno"
   ]
  },
  {
   "cell_type": "markdown",
   "metadata": {},
   "source": [
    "Náš systém vyžaduje od uživatele zadání uživatelského jména. Uživatelské jméno smí obsahovat pouze malá písmena a smí být maximálně 8 znaků dlouhé. Požádej uživatele o zadání uživatelského jména a pomocí regulárního výrazu vyhodnoť, zda je zadané správné."
   ]
  },
  {
   "cell_type": "code",
   "execution_count": 66,
   "metadata": {},
   "outputs": [
    {
     "name": "stdout",
     "output_type": "stream",
     "text": [
      "<re.Match object; span=(0, 8), match='uzivatel'>\n",
      "V pořádku.\n"
     ]
    }
   ],
   "source": [
    "import re\n",
    "\n",
    "regularni_vyraz = re.compile(r\"[a-z]{1,8}\")\n",
    "\n",
    "uzivatelske_jmeno = \"uzivatel\"\n",
    "# uzivatelske_jmeno = \"UZIVATEL\"\n",
    "# uzivatelske_jmeno = \"uziv222\"\n",
    "# uzivatelske_jmeno = \"outlonvahavy\"\n",
    "splnuje = regularni_vyraz.fullmatch(uzivatelske_jmeno)\n",
    "print(splnuje)\n",
    "\n",
    "print(\"V pořádku.\") if splnuje else print(\"Nesplňuje požadavky.\")"
   ]
  },
  {
   "cell_type": "markdown",
   "metadata": {},
   "source": [
    "### 2 E-mail s tečkou"
   ]
  },
  {
   "cell_type": "markdown",
   "metadata": {},
   "source": [
    "Uprav program na ověření e-mailu tak, aby akceptoval i e-maily, které mají v první části tečku, např. jiri.pesik@python.cz."
   ]
  },
  {
   "cell_type": "code",
   "execution_count": 67,
   "metadata": {},
   "outputs": [
    {
     "name": "stdout",
     "output_type": "stream",
     "text": [
      "<re.Match object; span=(0, 27), match='out.lon.vaha.vy@zoopraha.cz'>\n",
      "V pořádku.\n",
      "----------\n",
      "<re.Match object; span=(15, 40), match='outlon.vahavy@zoopraha.cz'>\n",
      "Email je mezi indexy (15, 40)\n",
      "V pořádku.\n"
     ]
    }
   ],
   "source": [
    "import re\n",
    "\n",
    "# Pokud dovolíme max. jednu tečku:\n",
    "# regularni_vyraz = re.compile(r\"\\w+\\.?\\w+@\\w+\\.cz\")\n",
    "\n",
    "# Obecněji i pro více teček v první části:\n",
    "regularni_vyraz = re.compile(r\"(\\w+\\.?)+@\\w+\\.cz\")\n",
    "\n",
    "# email = \"outlonvahavy@zoopraha.cz\"\n",
    "# email = \"outlon.vahavy@zoopraha.cz\"\n",
    "email = \"out.lon.vaha.vy@zoopraha.cz\"\n",
    "splnuje1 = regularni_vyraz.fullmatch(email)\n",
    "\n",
    "print(splnuje1)\n",
    "print(\"V pořádku.\") if splnuje1 else print(\"Nesplňuje požadavky.\")\n",
    "\n",
    "print(\"-\"*10)\n",
    "\n",
    "# Pro porovnání: metoda search najde email v textu\n",
    "email = \"Moje adresa je outlon.vahavy@zoopraha.cz a pracuji v ZOO Praha\"\n",
    "splnuje2 = regularni_vyraz.search(email)\n",
    "\n",
    "print(splnuje2)\n",
    "if splnuje2:\n",
    "    print(f\"Email je mezi indexy {splnuje2.span()}\")\n",
    "print(\"V pořádku.\") if splnuje2 else print(\"Nesplňuje požadavky.\")"
   ]
  },
  {
   "cell_type": "markdown",
   "metadata": {},
   "source": [
    "### 3 Záznamy"
   ]
  },
  {
   "cell_type": "markdown",
   "metadata": {},
   "source": [
    "Uvažujme aplikaci, která si ukládá informace o činnosti uživatelů do textového souboru. Příklad souboru je níže.\n",
    "\n",
    "* Napiš program, který vypíše všechna telefonní čísla, která jsou v textovém souboru zmíněna.\n",
    "* Nahraď tato telefonní čísla nějakým řetězcem (např. \"XXX\"), aby nebyla v záznamech dostupná."
   ]
  },
  {
   "cell_type": "code",
   "execution_count": 68,
   "metadata": {},
   "outputs": [
    {
     "name": "stdout",
     "output_type": "stream",
     "text": [
      "+420728123456\n",
      "+420734123456\n",
      "\n",
      "    searchNumber: pavca.czechitas action: search phone number of user dita\n",
      "    user: pavca action: send sms to phone number XXXXXXXXX\n",
      "    user: jirka: action: send 2 sms to phone number XXXXXXXXX\n",
      "    \n"
     ]
    }
   ],
   "source": [
    "zaznamy = \"\"\"\n",
    "    searchNumber: pavca.czechitas action: search phone number of user dita\n",
    "    user: pavca action: send sms to phone number +420728123456\n",
    "    user: jirka: action: send 2 sms to phone number +420734123456\n",
    "    \"\"\"\n",
    "\n",
    "import re\n",
    "\n",
    "# 2 varianty (fungují stejně):\n",
    "# regularniVyraz = re.compile(r\"[+\\d]{13}\")\n",
    "regularniVyraz = re.compile(r\"\\+\\d{12}\")\n",
    "vysledky = regularniVyraz.findall(zaznamy)\n",
    "\n",
    "for vysledek in vysledky:\n",
    "    print(vysledek)\n",
    "\n",
    "anonymni_zaznamy = regularniVyraz.sub(\"X\" * 9, zaznamy)\n",
    "print(anonymni_zaznamy)"
   ]
  },
  {
   "cell_type": "markdown",
   "metadata": {},
   "source": [
    "### 4 Adresy stránek"
   ]
  },
  {
   "cell_type": "markdown",
   "metadata": {},
   "source": [
    "Adresy webových stránek zpravidla začínají záhadným shlukem písmen http:// nebo https://. Například náš web najdete pod adresou https://kodim.cz. Zkrátka HTTP nebo HTTPS je ve skutečnosti označení protokolu, což je nějaký popis toho, jak by měla vypadat komunikace mezi dvěma zařízeními. Standardního tvaru můžeme využít, abychom z textu vytáhli všechny adresy. Napiš program, který z proměnné emailSRadami vytáhne všechny webové stránky, které jsou tam zmíněny."
   ]
  },
  {
   "cell_type": "code",
   "execution_count": 69,
   "metadata": {},
   "outputs": [
    {
     "name": "stdout",
     "output_type": "stream",
     "text": [
      "https://realpython.com\n",
      "http://docs.python.org\n",
      "http://www.learnpython.org\n",
      "https://www.pluralsight.com\n",
      "https://www.czechitas.cz\n"
     ]
    }
   ],
   "source": [
    "emailSRadami = \"\"\"\n",
    "    Ahoj,\n",
    "    posílám ti pár tipů, kam se podívat. https://realpython.com nabízí spoustu článků i kurzů. http://docs.python.org nabízí tutoriál i rozsáhlou dokumentaci. http://www.learnpython.org nabízí hezky strukturovaný kurz pro začátečníky, rozebírá ale i nějaká pokročilejší témata. https://www.pluralsight.com je placený web, který ale kvalitou kurzů víceméně nemá konkurenci. Určitě ale sleduj i web https://www.czechitas.cz a přihlašuj se na naše kurzy!\n",
    "    \"\"\"\n",
    "\n",
    "import re\n",
    "regularni_vyraz = re.compile(r\"https?://[\\w\\.]*\")\n",
    "vysledky = regularni_vyraz.findall(emailSRadami)\n",
    "\n",
    "for vysledek in vysledky:\n",
    "    print(vysledek)"
   ]
  },
  {
   "cell_type": "markdown",
   "metadata": {},
   "source": [
    "### 5 IP adresy"
   ]
  },
  {
   "cell_type": "markdown",
   "metadata": {},
   "source": [
    "Počítačové sítě jsou ve skutečnosti postavené na číselných adresách, které jsou označeny jako IP adresy. Každá IP adresy je čtveřice čísel v rozsahu 0 až 255, které jsou odděleny tečkou. Například IP adresy webu Czechitas v internetu je 51.68.166.161. My ale pro zjednodušení budeme kontrolovat pouze to, zda je číslo v rozsahu 0 až 299.\n",
    "\n",
    "Uvažuj, že vytváříš aplikaci, která pošle testovací zprávu (tzv. ping) počítači s nějaou IP adresou. Napiš program, která požádá uživatele o IP adresu a zkontroluj, zda je adresa platná. Např. adresa 325.125.100.128 není platná (první číslo je větší než 255), adresa 152.145.146 také není platá (jde o trojici čísel, nikoli čtveřici), adresa 192.168.1.0 je platná (čtveřice čísel v daném rozsahu)."
   ]
  },
  {
   "cell_type": "code",
   "execution_count": 70,
   "metadata": {},
   "outputs": [
    {
     "name": "stdout",
     "output_type": "stream",
     "text": [
      "V pořádku.\n"
     ]
    }
   ],
   "source": [
    "import re\n",
    "\n",
    "# Jednodušší, ale na zápis delší varianta\n",
    "# regularni_vyraz = re.compile(r\"[12]?\\d{1,2}\\.[12]?\\d{1,2}\\.[12]?\\d{1,2}\\.[12]?\\d{1,2}\")\n",
    "\n",
    "# Varianta s opakováním skupiny čísel (xxx.) třikrát\n",
    "regularni_vyraz = re.compile(r\"([12]?\\d{1,2}\\.){3}[12]?\\d{1,2}\")\n",
    "\n",
    "adresa = \"192.168.1.0\"\n",
    "# adresa = \"325.125.100.128\"\n",
    "# adresa = \"152.145.146\"\n",
    "adresaPlatna = regularni_vyraz.fullmatch(adresa)\n",
    "\n",
    "if adresaPlatna:\n",
    "    print(\"V pořádku.\")\n",
    "else:\n",
    "    print(\"Adresa není platná.\")"
   ]
  },
  {
   "cell_type": "markdown",
   "metadata": {},
   "source": [
    "### 6 Práce s kódem"
   ]
  },
  {
   "cell_type": "markdown",
   "metadata": {},
   "source": [
    "Chceš pomoci firmě, která vyvinula e-mailového klienta pro český trh. Níže je kousek kódu, který generuje popisky políček pro zadání adres příjemců, příjemců v kopii, příjemců ve skryté kopii a tlačítka pro odeslání nebo uložení. Nyní by firma ráda expandovala na německý trh. Bohužel vývojáři vkládali popisky do aplikace jako řetězce a ztratili přehled o řetězcích, které v aplikaci mají a které je potřeba je přeložit.\n",
    "\n",
    "* Zkopíruj si následující kód, uložený jako řetězec, do svého programu.\n",
    "* Vyhledej v programu všechny řádky, kde je ukládán řetězec do proměnné, např. řádek sender_field_title = \"Příjemce\".\n",
    "* Pomocí dalšího regulárního výrazu vytáhni z každého řádku samotný řetězec (může být i s uvozovkami), např. \"Příjemce\"."
   ]
  },
  {
   "cell_type": "code",
   "execution_count": 71,
   "metadata": {},
   "outputs": [
    {
     "name": "stdout",
     "output_type": "stream",
     "text": [
      "\"Příjemce\"\n",
      "\"Kopie\"\n",
      "\"Skrytá kopie\"\n",
      "\"Odeslat\"\n",
      "\"Uložit koncept\"\n"
     ]
    }
   ],
   "source": [
    "kod = \"\"\"\n",
    "    sender_field_title = \"Příjemce\"\n",
    "    copy_field_title = \"Kopie\"\n",
    "    if blind_copy == True:\n",
    "        blind_copy_title = \"Skrytá kopie\"\n",
    "    if action == \"send\":\n",
    "        button_title = \"Odeslat\"\n",
    "    else:\n",
    "        button_title = \"Uložit koncept\"\n",
    "    \"\"\"\n",
    "\n",
    "import re\n",
    "\n",
    "regularni_vyraz = re.compile(r\"[\\w_]* = \\\"[\\w ]*\\\"\")\n",
    "vysledky = regularni_vyraz.findall(kod)\n",
    "\n",
    "for vysledek in vysledky:\n",
    "    regularni_vyraz_vnitrni = re.compile(r\"\\\"[\\w ]*\\\"\")\n",
    "    vysledky_vnitrni = regularni_vyraz_vnitrni.findall(vysledek)\n",
    "    print(vysledky_vnitrni[0])"
   ]
  }
 ],
 "metadata": {
  "kernelspec": {
   "display_name": "Python 3.9.13 ('base')",
   "language": "python",
   "name": "python3"
  },
  "language_info": {
   "codemirror_mode": {
    "name": "ipython",
    "version": 3
   },
   "file_extension": ".py",
   "mimetype": "text/x-python",
   "name": "python",
   "nbconvert_exporter": "python",
   "pygments_lexer": "ipython3",
   "version": "3.9.13"
  },
  "orig_nbformat": 4,
  "vscode": {
   "interpreter": {
    "hash": "ca0a74a26f64ce6078449a8a918a2043db137feeddbb8faaf0bddbab6a446058"
   }
  }
 },
 "nbformat": 4,
 "nbformat_minor": 2
}
